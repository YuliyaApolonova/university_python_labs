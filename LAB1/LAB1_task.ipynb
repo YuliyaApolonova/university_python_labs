{
 "cells": [
  {
   "cell_type": "code",
   "execution_count": 16,
   "metadata": {
    "collapsed": false
   },
   "outputs": [
    {
     "name": "stdout",
     "output_type": "stream",
     "text": [
      "   year  week    SMN     SMT    VCI    TCI    VHI\n",
      "0  1981    36  0.363  288.25  39.21  66.56  52.89\n",
      "1  1981    37  0.364  288.28  48.61  50.34  49.48\n",
      "3  1981    39  0.349  287.33  53.79  32.64  43.21\n",
      "4  1981    40  0.330  286.25  50.21  29.90  40.05\n",
      "5  1981    41  0.305  284.70  46.98  29.02  38.00\n",
      "   year  week    SMN     SMT    VCI    TCI    VHI\n",
      "0  1981    36  0.363  288.25  39.21  66.56  52.89\n",
      "1  1981    37  0.364  288.28  48.61  50.34  49.48\n",
      "3  1981    39  0.349  287.33  53.79  32.64  43.21\n",
      "4  1981    40  0.330  286.25  50.21  29.90  40.05\n",
      "5  1981    41  0.305  284.70  46.98  29.02  38.00\n",
      "53.79\n",
      "38.0\n"
     ]
    }
   ],
   "source": [
    "import pandas as pd\n",
    "\n",
    "df = pd.read_csv('vhi_id_7 2017 03 13 20 35 45.csv', index_col=False, header=1, skipfooter=1, engine='python', names=['year', 'week', 'SMN', 'SMT', 'VCI', 'TCI', 'VHI'], delimiter='\\,\\s+|\\s+|\\,')\n",
    "df = df.dropna(axis=0, how='any')\n",
    "print df.head()\n",
    "print df[:5]\n",
    "\n",
    "def max(df, year):\n",
    "    df_year = df[df.year == year]\n",
    "    maximum = df_year['VHI'].max()\n",
    "    print maximum\n",
    "\n",
    "\n",
    "def min(df, year):\n",
    "    df_year = df[df.year == year]\n",
    "    minimum = df_year['VHI'].min()\n",
    "    print minimum\n",
    "\n",
    "\n",
    "def extr(df):\n",
    "    print(df[df.VHI < 15])\n",
    "\n",
    "max(df, 1981)\n",
    "min(df, 1981)\n"
   ]
  },
  {
   "cell_type": "code",
   "execution_count": null,
   "metadata": {
    "collapsed": true
   },
   "outputs": [],
   "source": []
  }
 ],
 "metadata": {
  "kernelspec": {
   "display_name": "Python 2",
   "language": "python",
   "name": "python2"
  }
 },
 "nbformat": 4,
 "nbformat_minor": 2
}

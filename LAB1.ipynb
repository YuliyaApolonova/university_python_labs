{
 "cells": [
  {
   "cell_type": "code",
   "execution_count": 10,
   "metadata": {
    "collapsed": false
   },
   "outputs": [
    {
     "name": "stdout",
     "output_type": "stream",
     "text": [
      "Enter id of the file to download it, please:4\n",
      "VHI #4 is downloaded...\n",
      "vhi_id_4 2017 03 13 21 02 28.csv\n",
      "   year  week    SMN     SMT    VCI    TCI    VHI\n",
      "0  1981    36  0.256  295.67  44.57  67.26  55.91\n",
      "1  1981    37  0.253  295.36  45.41  56.26  50.84\n",
      "2  1981    38  0.246  294.71  46.54  49.53  48.04\n",
      "3  1981    39  0.236  293.55  47.76  46.48  47.12\n",
      "4  1981    40  0.224  291.88  48.47  45.61  47.04\n",
      "55.91\n",
      "36.49\n",
      "      year  week    SMN     SMT    VCI   TCI    VHI\n",
      "1294  2007    30  0.240  308.38  26.78  3.19  14.98\n",
      "1295  2007    31  0.230  308.20  24.96  3.51  14.23\n",
      "1296  2007    32  0.222  307.89  24.41  3.17  13.79\n",
      "1297  2007    33  0.216  307.24  23.20  3.62  13.41\n",
      "1298  2007    34  0.210  306.29  22.05  4.51  13.28\n",
      "1299  2007    35  0.209  304.96  23.09  5.63  14.36\n",
      "1562  2012    38  0.200  301.92  26.69  2.12  14.40\n",
      "1563  2012    39  0.188  300.75  25.98  1.48  13.73\n",
      "1564  2012    40  0.176  299.42  26.10  0.98  13.54\n",
      "1565  2012    41  0.163  297.66  26.31  0.92  13.61\n",
      "1566  2012    42  0.151  295.40  27.74  0.96  14.35\n"
     ]
    }
   ],
   "source": [
    "import urllib2\n",
    "import datetime\n",
    "\n",
    "i=input(\"Enter id of the file to download it, please:\")\n",
    "def download(i):\n",
    "    now_time = datetime.datetime.now()\n",
    "    url = \"https://www.star.nesdis.noaa.gov/smcd/emb/vci/VH/get_provinceData.php?country=UKR&provinceID={}&year1=1981&year2=2017&type=Mean\".format(i)\n",
    "    fileName='vhi_id_{} {}.csv'.format(i, now_time.strftime('%Y %m %d %H %M %S'))\n",
    "    vhi_url = urllib2.urlopen(url)\n",
    "    out = open(fileName, 'wb')\n",
    "    out.write(vhi_url.read())\n",
    "    out.close()\n",
    "    print (\"VHI #\"+str(i)+\" is downloaded...\")\n",
    "    return fileName\n",
    "    \n",
    "directory=download(i)\n",
    "print (directory)\n",
    "\n",
    "import pandas as pd\n",
    "\n",
    "df = pd.read_csv(directory, index_col=False, header=1, skipfooter=1, engine='python', names=['year', 'week', 'SMN', 'SMT', 'VCI', 'TCI', 'VHI'], delimiter='\\,\\s+|\\s+|\\,')\n",
    "print df.head()\n",
    "\n",
    "\n",
    "def max(df, year):\n",
    "    df_year = df[df.year == year]\n",
    "    maximum = df_year['VHI'].max()\n",
    "    print maximum\n",
    "\n",
    "\n",
    "def min(df, year):\n",
    "    df_year = df[df.year == year]\n",
    "    minimum = df_year['VHI'].min()\n",
    "    print minimum\n",
    "\n",
    "\n",
    "def extr(df):\n",
    "    print(df[df.VHI < 15])\n",
    "\n",
    "max(df, 1981)\n",
    "min(df, 1981)\n",
    "extr(df)\n",
    "\n",
    "\n"
   ]
  },
  {
   "cell_type": "code",
   "execution_count": null,
   "metadata": {
    "collapsed": true
   },
   "outputs": [],
   "source": []
  }
 ],
 "metadata": {
  "kernelspec": {
   "display_name": "Python 2",
   "language": "python",
   "name": "python2"
  },
  "language_info": {
   "codemirror_mode": {
    "name": "ipython",
    "version": 2
   },
   "file_extension": ".py",
   "mimetype": "text/x-python",
   "name": "python",
   "nbconvert_exporter": "python",
   "pygments_lexer": "ipython2",
   "version": "2.7.13"
  }
 },
 "nbformat": 4,
 "nbformat_minor": 2
}
